{
  "nbformat": 4,
  "nbformat_minor": 0,
  "metadata": {
    "colab": {
      "provenance": [],
      "authorship_tag": "ABX9TyMWrU8OOutCJY4/ea1f1JGq",
      "include_colab_link": true
    },
    "kernelspec": {
      "name": "python3",
      "display_name": "Python 3"
    },
    "language_info": {
      "name": "python"
    }
  },
  "cells": [
    {
      "cell_type": "markdown",
      "metadata": {
        "id": "view-in-github",
        "colab_type": "text"
      },
      "source": [
        "<a href=\"https://colab.research.google.com/github/ishana-stack/conditionals/blob/main/count.ipynb\" target=\"_parent\"><img src=\"https://colab.research.google.com/assets/colab-badge.svg\" alt=\"Open In Colab\"/></a>"
      ]
    },
    {
      "cell_type": "code",
      "execution_count": 1,
      "metadata": {
        "colab": {
          "base_uri": "https://localhost:8080/"
        },
        "id": "_adrk0nC2_ul",
        "outputId": "1431fb6e-8a9d-42f5-f75a-0e2b21235358"
      },
      "outputs": [
        {
          "output_type": "stream",
          "name": "stdout",
          "text": [
            "enter a big number11111111111111111110\n",
            "20\n"
          ]
        }
      ],
      "source": [
        "num=int(input(\"enter a big number\"))\n",
        "count=0\n",
        "while(num>0):\n",
        "  count=count+1\n",
        "  num=num//10\n",
        "print(count)\n"
      ]
    }
  ]
}